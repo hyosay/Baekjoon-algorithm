{
  "nbformat": 4,
  "nbformat_minor": 0,
  "metadata": {
    "colab": {
      "name": "Untitled1.ipynb",
      "provenance": [],
      "private_outputs": true,
      "collapsed_sections": [],
      "authorship_tag": "ABX9TyN2G8w42RFS8TyFwYg9Vizx",
      "include_colab_link": true
    },
    "kernelspec": {
      "name": "python3",
      "display_name": "Python 3"
    }
  },
  "cells": [
    {
      "cell_type": "markdown",
      "metadata": {
        "id": "view-in-github",
        "colab_type": "text"
      },
      "source": [
        "<a href=\"https://colab.research.google.com/github/hyoseong-j/Baekjoon-algorithm/blob/master/Untitled1.ipynb\" target=\"_parent\"><img src=\"https://colab.research.google.com/assets/colab-badge.svg\" alt=\"Open In Colab\"/></a>"
      ]
    },
    {
      "cell_type": "markdown",
      "metadata": {
        "id": "l2tRiuO8vo-x",
        "colab_type": "text"
      },
      "source": [
        "# codeup basic 100"
      ]
    },
    {
      "cell_type": "markdown",
      "metadata": {
        "id": "409fe65Qv2ej",
        "colab_type": "text"
      },
      "source": [
        "## no.25"
      ]
    },
    {
      "cell_type": "markdown",
      "metadata": {
        "id": "UPKCE-5pv-v3",
        "colab_type": "text"
      },
      "source": [
        ""
      ]
    },
    {
      "cell_type": "code",
      "metadata": {
        "id": "UgQ67M1kt71h",
        "colab_type": "code",
        "colab": {}
      },
      "source": [
        "a = [10000, 1000, 100, 10, 1]\n",
        "b = int(input())\n",
        "for i in range(len(a)):\n",
        "    print('[',a[i] * int(str(b)[i]),']', sep= '')"
      ],
      "execution_count": null,
      "outputs": []
    },
    {
      "cell_type": "markdown",
      "metadata": {
        "id": "oANEAnK0wFEF",
        "colab_type": "text"
      },
      "source": [
        "##no. 26"
      ]
    },
    {
      "cell_type": "code",
      "metadata": {
        "id": "7Weay_UjwHkr",
        "colab_type": "code",
        "colab": {}
      },
      "source": [
        "b = list(map(int, input().split(\":\")))\n",
        "print(b[1])\n"
      ],
      "execution_count": null,
      "outputs": []
    },
    {
      "cell_type": "markdown",
      "metadata": {
        "id": "FAWyVTycw_r3",
        "colab_type": "text"
      },
      "source": [
        "##no.27"
      ]
    },
    {
      "cell_type": "code",
      "metadata": {
        "id": "j0rjMZkJw-0R",
        "colab_type": "code",
        "colab": {}
      },
      "source": [
        "a = list(map(int, input().split('.')))\n",
        "print('%02d' % a[2], '%02d' % a[1], '%04d' % a[0], sep= '-')"
      ],
      "execution_count": null,
      "outputs": []
    },
    {
      "cell_type": "markdown",
      "metadata": {
        "id": "WNav1RPwzHk_",
        "colab_type": "text"
      },
      "source": [
        "## no.28"
      ]
    },
    {
      "cell_type": "code",
      "metadata": {
        "id": "HSsY6TaLzJa1",
        "colab_type": "code",
        "colab": {}
      },
      "source": [
        "a = int(input())\n",
        "print(a)"
      ],
      "execution_count": null,
      "outputs": []
    },
    {
      "cell_type": "markdown",
      "metadata": {
        "id": "7J0hzS_ezaxd",
        "colab_type": "text"
      },
      "source": [
        "no.29"
      ]
    },
    {
      "cell_type": "code",
      "metadata": {
        "id": "MZs-h_bvzZkN",
        "colab_type": "code",
        "colab": {}
      },
      "source": [
        "a = float(input())\n",
        "print(\"%.11lf\" % a)"
      ],
      "execution_count": null,
      "outputs": []
    },
    {
      "cell_type": "markdown",
      "metadata": {
        "id": "oqtya6PizyZc",
        "colab_type": "text"
      },
      "source": [
        "##no.30"
      ]
    },
    {
      "cell_type": "code",
      "metadata": {
        "id": "vl8QHaSZzyJU",
        "colab_type": "code",
        "colab": {}
      },
      "source": [
        "n = int(input())\n",
        "print(n)"
      ],
      "execution_count": null,
      "outputs": []
    },
    {
      "cell_type": "markdown",
      "metadata": {
        "id": "lkn1ttxmz9td",
        "colab_type": "text"
      },
      "source": [
        "## no.31"
      ]
    },
    {
      "cell_type": "code",
      "metadata": {
        "id": "5JK9Pp7c0AGS",
        "colab_type": "code",
        "colab": {}
      },
      "source": [
        "a = int(input())\n",
        "print(\"%o\" % a)"
      ],
      "execution_count": null,
      "outputs": []
    },
    {
      "cell_type": "markdown",
      "metadata": {
        "id": "VszH1quB0dnK",
        "colab_type": "text"
      },
      "source": [
        "## no.32"
      ]
    },
    {
      "cell_type": "code",
      "metadata": {
        "id": "P8ZPAkV-0fOw",
        "colab_type": "code",
        "colab": {}
      },
      "source": [
        "n = int(input())\n",
        "print(\"%x\" % n)"
      ],
      "execution_count": null,
      "outputs": []
    },
    {
      "cell_type": "markdown",
      "metadata": {
        "id": "_MrbPSRJ7m2Q",
        "colab_type": "text"
      },
      "source": [
        "#3 no.33"
      ]
    },
    {
      "cell_type": "code",
      "metadata": {
        "id": "s2Pr30yF7oT4",
        "colab_type": "code",
        "colab": {}
      },
      "source": [
        "n = int(input())\n",
        "print(\"%X\" % n)"
      ],
      "execution_count": null,
      "outputs": []
    },
    {
      "cell_type": "markdown",
      "metadata": {
        "id": "7yd73Dor9HPD",
        "colab_type": "text"
      },
      "source": [
        "## no.35"
      ]
    },
    {
      "cell_type": "code",
      "metadata": {
        "id": "uL1KGT6M9Jv5",
        "colab_type": "code",
        "colab": {}
      },
      "source": [
        "a = input()\n",
        "b = int(a, 16)\n",
        "print(\"%o\" % b)"
      ],
      "execution_count": null,
      "outputs": []
    },
    {
      "cell_type": "markdown",
      "metadata": {
        "id": "5HZq9obh-Fu5",
        "colab_type": "text"
      },
      "source": [
        "#3 no. 37\n"
      ]
    },
    {
      "cell_type": "code",
      "metadata": {
        "id": "MO_0IvZf-Hsx",
        "colab_type": "code",
        "colab": {}
      },
      "source": [
        "print(chr(int(input())))"
      ],
      "execution_count": null,
      "outputs": []
    },
    {
      "cell_type": "code",
      "metadata": {
        "id": "1utlkjwxABBx",
        "colab_type": "code",
        "colab": {}
      },
      "source": [
        "for i in range(0)\n",
        "if n = sum(range(0, i))"
      ],
      "execution_count": null,
      "outputs": []
    }
  ]
}